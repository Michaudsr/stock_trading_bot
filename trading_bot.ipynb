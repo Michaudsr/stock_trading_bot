{
 "cells": [
  {
   "cell_type": "code",
   "execution_count": 1,
   "metadata": {},
   "outputs": [],
   "source": [
    "from selenium import webdriver "
   ]
  },
  {
   "cell_type": "code",
   "execution_count": 4,
   "metadata": {},
   "outputs": [],
   "source": [
    "import datetime, re, requests, io, time, random, string"
   ]
  },
  {
   "cell_type": "code",
   "execution_count": 5,
   "metadata": {},
   "outputs": [],
   "source": [
    "from bs4 import BeautifulSoup"
   ]
  },
  {
   "cell_type": "code",
   "execution_count": 16,
   "metadata": {},
   "outputs": [],
   "source": [
    "from credentials import email, password "
   ]
  },
  {
   "cell_type": "code",
   "execution_count": 17,
   "metadata": {},
   "outputs": [
    {
     "name": "stdout",
     "output_type": "stream",
     "text": [
      "michaudsr@gmail.com\n"
     ]
    }
   ],
   "source": [
    "print(email)"
   ]
  },
  {
   "cell_type": "code",
   "execution_count": 6,
   "metadata": {},
   "outputs": [],
   "source": [
    "driver = webdriver.Chrome('/Users/stevenmichaud/downloads/chromedriver')"
   ]
  },
  {
   "cell_type": "code",
   "execution_count": 7,
   "metadata": {},
   "outputs": [],
   "source": [
    "# Go to wallmine.com\n",
    "driver.get('https://wallmine.com')"
   ]
  },
  {
   "cell_type": "code",
   "execution_count": 11,
   "metadata": {},
   "outputs": [],
   "source": [
    "if 'Make Smarter Investments' in driver.page_source:\n",
    "    sign_in_link = driver.find_element_by_xpath('/html/body/main/header/div/ul/li[1]/ul/li[3]/a')\n",
    "    sign_in_link.click()\n",
    "    time.sleep(3)\n",
    "    print('on the right page')"
   ]
  },
  {
   "cell_type": "code",
   "execution_count": 20,
   "metadata": {},
   "outputs": [],
   "source": [
    "if 'Sign in here, please.' in driver.page_source:\n",
    "    login_email = driver.find_element_by_xpath('//*[@id=\"user_email\"]')\n",
    "    sign_in_password = driver.find_element_by_xpath('//*[@id=\"new_user\"]/div[5]/div[1]/div[2]')\n",
    "    sign_in_password.click()\n",
    "    time.sleep(0.2)"
   ]
  },
  {
   "cell_type": "code",
   "execution_count": 15,
   "metadata": {},
   "outputs": [],
   "source": [
    "login_password = driver.find_element_by_xpath('//*[@id=\"user_password\"]')\n",
    "sign_in_button = driver.find_element_by_xpath('//*[@id=\"new_user\"]/div[5]/div[2]/div[1]/button')"
   ]
  },
  {
   "cell_type": "code",
   "execution_count": 19,
   "metadata": {},
   "outputs": [],
   "source": [
    "login_email.send_keys(email)\n",
    "login_password.send_keys(password)\n",
    "sign_in_button.click()\n",
    "time.sleep(3)"
   ]
  },
  {
   "cell_type": "code",
   "execution_count": 22,
   "metadata": {},
   "outputs": [
    {
     "name": "stdout",
     "output_type": "stream",
     "text": [
      "On the main page\n"
     ]
    }
   ],
   "source": [
    "if 'Stock market overview' in driver.page_source:\n",
    "    print('On the main page')\n",
    "    heatmap = driver.find_element_by_xpath('//*[@id=\"homepage-heatmap\"]/a/div[2]')\n",
    "    heatmap.click()\n",
    "    time.sleep(2)"
   ]
  },
  {
   "cell_type": "code",
   "execution_count": 23,
   "metadata": {},
   "outputs": [],
   "source": [
    "overview_tab = driver.find_element_by_xpath('/html/body/main/section/div[5]/div/div/div[1]/div/ul/li[1]/a')\n",
    "overview_tab.click()\n",
    "time.sleep(3)"
   ]
  },
  {
   "cell_type": "code",
   "execution_count": 29,
   "metadata": {},
   "outputs": [
    {
     "name": "stdout",
     "output_type": "stream",
     "text": [
      "here\n"
     ]
    },
    {
     "data": {
      "text/plain": [
       "['▴ ▴',\n",
       " 'Symbol',\n",
       " '▴ ▴',\n",
       " 'Company',\n",
       " '▴ ▴',\n",
       " 'Exchange',\n",
       " '▴ ▴',\n",
       " 'Industry',\n",
       " '▴ ▴',\n",
       " 'Market cap',\n",
       " '▴ ▴',\n",
       " 'EBITDA',\n",
       " '▴ ▴',\n",
       " 'P/E',\n",
       " '▴ ▴',\n",
       " 'EV/EBITDA',\n",
       " '▴ ▴',\n",
       " 'Debt/Equity',\n",
       " '▴ ▴',\n",
       " 'Average volume',\n",
       " '▴ ▴',\n",
       " 'Institutional ownership',\n",
       " '▴ ▴',\n",
       " 'Earnings date',\n",
       " '▴ ▴',\n",
       " 'Price',\n",
       " '▴ ▴',\n",
       " 'Performance today',\n",
       " 'AAPL Apple, Inc. NASDAQ Consumer Electronics $1.91T $74.542B 33.68 24.95 2.74 52.096M 62.12% 29 Oct 2020 $109.12 -2.41%',\n",
       " 'APC Apple Inc. XETRA Consumer Electronics $1.86T $78.671B 31.96 23.90 2.74 28.728k 62.12% N/A €93.95 -0.51%',\n",
       " '4338 Microsoft Corporation HKSE Internet Services & Infrastructure $1.54T $65.259B 34.68 22.53 1.55 1.000 74.09% N/A HKD$1,658.00 +231.60%',\n",
       " 'MSFT Microsoft Corp. NASDAQ Internet Services & Infrastructure $1.54T $65.259B 35.64 22.40 1.55 34.993M 74.09% 22 Oct 2020 $204.07 -1.62%',\n",
       " 'MSF Microsoft Corporation EURONEXT Internet Services & Infrastructure $1.54T $65.259B 34.68 22.53 1.55 195.000 74.09% N/A $204.65 +0.89%',\n",
       " 'AMZN Amazon.com, Inc. NASDAQ Specialty Retail $1.51T $30.457B 116.75 49.32 2.63 5.062M 57.69% 22 Oct 2020 $3,053.18 -2.42%',\n",
       " 'AMZ Amazon.com, Inc. XETRA Internet & Direct Marketing Retail $1.49T $39.575B 113.76 37.88 2.63 2.808k 57.69% N/A €2,616.00 -0.98%',\n",
       " 'GOOG Alphabet, Inc. NASDAQ Internet Services & Infrastructure $1.01T $47.254B 29.55 18.82 0.37 1.791M 70.62% 22 Oct 2020 $1,433.91 -2.15%',\n",
       " 'GOOGL Alphabet, Inc. NASDAQ Internet Services & Infrastructure $1.01T $47.254B 31.85 18.69 0.37 1.859M 82.29% 22 Oct 2020 $1,427.05 -2.24%',\n",
       " 'ABEC Alphabet, Inc. XETRA Internet Services & Infrastructure $1.01T $46.035B 32.14 19.68 0.37 726.000 70.62% N/A €1,232.20 -0.11%',\n",
       " '9988 Alibaba Group Holding Limited HKSE Internet Retail $747.92B N/A 28.99 25.36 0.72 22.131M 2.72% N/A HKD$267.00 +0.83%',\n",
       " 'BABA Alibaba Group Holding Ltd. NYSE Specialty Retail $747.81B ¥19.774B 28.63 242.16 0.57 15.474M 48.80% 30 Oct 2020 $274.46 -0.30%',\n",
       " 'AHLA Alibaba Group Holding Ltd. XETRA Specialty Retail $741.62B ¥31.370B 28.97 152.99 0.59 21.382k 48.80% N/A €234.50 +1.30%',\n",
       " 'FB Facebook, Inc. NASDAQ Internet Services & Infrastructure $725.94B $34.727B 30.88 19.46 0.32 26.764M 79.41% 28 Oct 2020 $252.75 -0.79%',\n",
       " 'FB2A Facebook, Inc. XETRA Internet Services & Infrastructure $719.93B $34.084B 30.71 19.73 0.32 14.743k 79.41% N/A €216.40 +0.16%',\n",
       " 'TCEHY Tencent Holdings Ltd. OTC Internet Services & Infrastructure $651.56B ¥20.945B 48.99 212.31 1.08 2.698M 0.76% N/A $66.29 -0.14%',\n",
       " 'TCTZF Tencent Holdings Ltd. OTC Internet Services & Infrastructure $651.56B ¥20.945B 42.65 212.55 1.08 24.518k 22.30% N/A $66.05 -0.23%',\n",
       " '0700 Tencent Holdings Limited HKSE Internet Services & Infrastructure $649.09B ¥2.470B 42.49 1,793.73 1.20 15.371M 22.30% 12 Nov 2020 HKD$514.00 +0.49%',\n",
       " 'BRK-A Berkshire Hathaway Inc. NYSE Multi-line Insurance $520.31B $53.661B 19.54 11.11 0.92 1.012k 24.67% N/A $318,812.00 -0.56%',\n",
       " 'BRK-B Berkshire Hathaway Inc. NYSE Multi-line Insurance $520.31B $53.661B 23.51 11.11 0.92 4.742M 68.84% 2 Nov 2020 $212.10 -0.96%',\n",
       " 'V Visa, Inc. NYSE Consumer Finance $450.66B $16.057B 38.13 24.72 1.09 8.058M 98.06% 21 Oct 2020 $197.87 -1.34%',\n",
       " 'TSM Taiwan Semiconductor Manufacturing Co., Ltd. NYSE Semiconductors $397.94B NT$21.352B 39.45 549.38 0.40 11.811M 19.96% 15 Oct 2020 $79.06 -1.76%',\n",
       " 'TSLA Tesla, Inc. NASDAQ Automobile Manufacturers $395.29B $2.234B 936.47 188.09 3.96 320.411M 57.93% 27 Oct 2020 $390.03 -8.06%',\n",
       " 'TL0 Tesla, Inc. XETRA Automobile Manufacturers $392.02B $3.445B 1,046.40 115.77 3.96 48.478k 57.93% N/A €333.95 -7.25%',\n",
       " 'JNJ Johnson & Johnson NYSE Pharmaceuticals $387.47B $28.559B 24.95 14.08 1.65 5.875M 70.25% 13 Oct 2020 $145.85 +1.14%',\n",
       " 'WMT Walmart, Inc. NYSE Hypermarkets & Super Centers $387.35B $32.455B 21.88 13.75 2.08 10.856M 30.95% 17 Nov 2020 $137.85 -0.33%',\n",
       " 'NSRGF Nestlé SA OTC Packaged Foods & Meats $346.73B CHF19.847B 23.48 17.76 1.44 10.138k 39.23% N/A $118.96 -0.03%',\n",
       " 'NSRGY Nestlé SA OTC Packaged Foods & Meats $346.73B CHF19.847B 44.50 17.76 1.44 224.439k 2.68% N/A $118.09 -0.76%',\n",
       " 'NESM Nestlé SA XETRA Packaged Foods & Meats $343.08B CHF18.208B 23.45 19.25 1.44 557.000 2.68% N/A €101.00 -0.49%',\n",
       " 'PG Procter & Gamble Co. NYSE Household & Personal Products $342.37B $19.405B 26.89 18.63 1.57 5.969M 65.03% 20 Oct 2020 $137.57 -0.28%',\n",
       " 'MA Mastercard, Inc. NYSE Consumer Finance $339.79B $10.324B 46.25 32.61 3.94 3.650M 78.62% 3 Nov 2020 $329.45 -1.75%',\n",
       " 'PRG Procter & Gamble Co. XETRA Household & Personal Products $339.54B $19.185B 26.72 18.82 1.62 3.509k 65.03% N/A €118.00 +0.08%',\n",
       " 'RHHBY Roche Holding AG OTC Pharmaceuticals $316.59B CHF20.755B 29.24 14.46 1.44 773.012k 1.60% N/A $45.01 -2.81%',\n",
       " 'RHHVF Roche Holding AG OTC Pharmaceuticals $316.59B CHF20.755B 22.36 14.46 1.44 3.253k 37.19% N/A $360.08 -1.48%',\n",
       " 'NVDA NVIDIA Corp. NASDAQ Semiconductors $307.96B $3.272B 91.41 89.52 0.42 12.712M 69.23% 5 Nov 2020 $498.785 -1.33%',\n",
       " 'NVD NVIDIA Corporation XETRA Semiconductors $305.41B $4.440B 90.45 68.05 0.42 8.763k 69.23% N/A €428.50 +2.22%',\n",
       " 'HD The Home Depot, Inc. NYSE Home Improvement Retail $301.36B $18.139B 24.91 18.27 -17.44 3.810M 72.20% 17 Nov 2020 $269.30 -1.47%',\n",
       " 'JPM JPMorgan Chase & Co. NYSE Diversified Banks $300.37B N/A 12.65 N/A 9.28 18.768M 76.08% 13 Oct 2020 $93.67 -0.64%',\n",
       " 'HDI The Home Depot, Inc. XETRA Home Improvement Retail $298.87B $19.104B 25.67 17.22 -17.44 389.000 72.20% N/A €232.50 +0.35%',\n",
       " 'UNH UnitedHealth Group, Inc. NYSE Managed Health Care $289.83B N/A 16.34 N/A 1.94 2.677M 89.92% 20 Oct 2020 $294.27 +0.00%',\n",
       " 'UNH UnitedHealth Group Incorporated XETRA Healthcare Plans $287.44B $26.492B 16.94 11.66 1.94 89.000 89.92% N/A €252.40 +0.36%',\n",
       " 'VZ Verizon Communications, Inc. NYSE Telecommunication Services $250.72B $47.189B 12.89 8.03 3.73 11.622M 68.43% 21 Oct 2020 $59.35 -0.79%',\n",
       " 'VERIZ Verizon Communications Inc. EURONEXT Telecommunication Services $250.72B $47.511B 13.10 7.94 3.73 0.000 68.43% N/A $54.00 +0.00%',\n",
       " 'LVMHF LVMH Moët Hennessy Louis Vuitton SE OTC Apparel, Accessories & Luxury Goods $249.67B €14.321B 48.05 16.42 1.59 698.000 20.28% N/A $470.00 +1.18%',\n",
       " 'LVMUY LVMH Moët Hennessy Louis Vuitton SE OTC Apparel, Accessories & Luxury Goods $249.67B €14.061B 33.32 16.72 1.59 103.499k 0.54% N/A $93.43 +0.97%',\n",
       " 'BAC Verizon Communications, Inc. XETRA Telecommunication Services $248.65B $47.511B 13.05 7.91 3.73 1.151k 68.43% N/A €50.90 +0.10%',\n",
       " 'MC LVMH Moët Hennessy Louis Vuitton SE EURONEXT Apparel, Accessories & Luxury Goods $247.60B €9.612B 48.02 24.36 1.59 289.384k 20.28% 27 Jul 2020 €400.10 +2.31%',\n",
       " '1398 Industrial and Commercial Bank of China Limited HKSE Diversified Banks $246.10B N/A 4.30 N/A 10.25 148.406M 53.13% N/A HKD$4.11 -1.20%',\n",
       " 'IDCBY Industrial & Commercial Bank of China Ltd. OTC Diversified Banks $243.58B ¥61.569B 4.24 27.25 10.72 88.895k 0.02% N/A $10.52 -0.85%',\n",
       " 'IDCBF Industrial & Commercial Bank of China Ltd. OTC Diversified Banks $243.58B ¥61.569B 5.74 26.41 10.72 64.472k 53.13% N/A $0.538 -2.96%']"
      ]
     },
     "execution_count": 29,
     "metadata": {},
     "output_type": "execute_result"
    }
   ],
   "source": [
    "if 'Free Stock Screener' in driver.page_source:\n",
    "    print('here')\n",
    "    stock_data = driver.find_element_by_xpath('/html/body/main/section/div[5]/div/div/div[2]').text\n",
    "stock_list = stock_data.split('\\n')\n",
    "stock_list"
   ]
  },
  {
   "cell_type": "code",
   "execution_count": 30,
   "metadata": {},
   "outputs": [
    {
     "data": {
      "text/plain": [
       "27"
      ]
     },
     "execution_count": 30,
     "metadata": {},
     "output_type": "execute_result"
    }
   ],
   "source": [
    "stock_list.index('Performance today')"
   ]
  },
  {
   "cell_type": "code",
   "execution_count": 33,
   "metadata": {},
   "outputs": [
    {
     "data": {
      "text/plain": [
       "'AAPL Apple, Inc. NASDAQ Consumer Electronics $1.91T $74.542B 33.68 24.95 2.74 52.096M 62.12% 29 Oct 2020 $109.12 -2.41%'"
      ]
     },
     "execution_count": 33,
     "metadata": {},
     "output_type": "execute_result"
    }
   ],
   "source": [
    "stock_list[28]"
   ]
  },
  {
   "cell_type": "code",
   "execution_count": 44,
   "metadata": {},
   "outputs": [],
   "source": [
    "stock_list[28].split(' $')\n",
    "company_info_parsed = stock_list[28].split(' $')[0]\n",
    "market_cap = stock_list[28].split(' $')[1]\n",
    "market_info = stock_list[28].split(' $')[2]\n",
    "price_info = stock_list[28].split(' $')[3].split(' ')\n",
    "price = f'${price_info[0]}'\n",
    "performance_today = price_info[1]\n",
    "# price_info\n",
    "# print(company_info_parsed)\n",
    "# price"
   ]
  },
  {
   "cell_type": "code",
   "execution_count": 59,
   "metadata": {},
   "outputs": [
    {
     "name": "stdout",
     "output_type": "stream",
     "text": [
      "here\n"
     ]
    },
    {
     "data": {
      "text/plain": [
       "'Apple, Inc.'"
      ]
     },
     "execution_count": 59,
     "metadata": {},
     "output_type": "execute_result"
    }
   ],
   "source": [
    "company_info = company_info_parsed.split(' ')\n",
    "if 'NASDAQ' in company_info:\n",
    "    idx = company_info.index('NASDAQ')\n",
    "    exchange = company_info[idx]\n",
    "    print('here')\n",
    "    company_info.index('NASDAQ')\n",
    "elif 'NYSE' in company_info:\n",
    "    idx = company_info.index('NYSE')\n",
    "    exchange = company_info[idx]\n",
    "elif 'NYSEMKT' in company_info:\n",
    "    idx = company_info.index('NYSEMKT')\n",
    "    exchange = company_info[idx]\n",
    "industry = \" \".join(company_info[idx + 1:])\n",
    "symbol = company_info[0]\n",
    "company_name = \" \".join(company_info[1:idx])\n",
    "company_name\n",
    "\n",
    "# Currently parsed\n",
    "# symbol, company_name, exchange, industry, market_cap, price, performance_today, \n",
    "# ebitda, p_e, ev_ebitda, debt_equity, average_volume, institional_ownership, earnings_date"
   ]
  },
  {
   "cell_type": "code",
   "execution_count": 61,
   "metadata": {},
   "outputs": [
    {
     "data": {
      "text/plain": [
       "['74.542B', '33.68', '24.95', '2.74', '52.096M', '62.12%', '29', 'Oct', '2020']"
      ]
     },
     "execution_count": 61,
     "metadata": {},
     "output_type": "execute_result"
    }
   ],
   "source": [
    "# Parse market info\n",
    "market_info.split(' ')"
   ]
  },
  {
   "cell_type": "code",
   "execution_count": 66,
   "metadata": {},
   "outputs": [
    {
     "data": {
      "text/plain": [
       "'29 Oct 2020'"
      ]
     },
     "execution_count": 66,
     "metadata": {},
     "output_type": "execute_result"
    }
   ],
   "source": [
    "ebitda = market_info.split(' ')[0]\n",
    "p_e = market_info.split(' ')[1]\n",
    "ev_ebitda = market_info.split(' ')[2]\n",
    "debt_equity = market_info.split(' ')[3]\n",
    "average_volume = market_info.split(' ')[4]\n",
    "institutional_ownership = market_info.split(' ')[5]\n",
    "earnings_date = \" \".join(market_info.split(' ')[6:])\n",
    "earnings_date"
   ]
  },
  {
   "cell_type": "code",
   "execution_count": 69,
   "metadata": {},
   "outputs": [
    {
     "data": {
      "text/plain": [
       "{'symbol': 'AAPL',\n",
       " 'company_name': 'Apple, Inc.',\n",
       " 'exchange': 'NASDAQ',\n",
       " 'industry': 'Consumer Electronics',\n",
       " 'market_cap': '1.91T',\n",
       " 'price': '$109.12',\n",
       " 'performance_today': '-2.41%',\n",
       " 'ebitda': '74.542B',\n",
       " 'p_e': '33.68',\n",
       " 'ev_ebitda': '24.95',\n",
       " 'debt_equity': '2.74',\n",
       " 'average_volume': '52.096M',\n",
       " 'institutional_ownership': '62.12%',\n",
       " 'earnings_date': '29 Oct 2020'}"
      ]
     },
     "execution_count": 69,
     "metadata": {},
     "output_type": "execute_result"
    }
   ],
   "source": [
    "x_stock = {\n",
    "    \"symbol\": symbol,\n",
    "    \"company_name\": company_name,\n",
    "    \"exchange\": exchange,\n",
    "    \"industry\": industry,\n",
    "    \"market_cap\": market_cap,\n",
    "    \"price\": price,\n",
    "    \"performance_today\": performance_today,\n",
    "    \"ebitda\": ebitda,\n",
    "    \"p_e\": p_e,\n",
    "    \"ev_ebitda\": ev_ebitda,\n",
    "    \"debt_equity\": debt_equity,\n",
    "    \"average_volume\": average_volume,\n",
    "    \"institutional_ownership\": institutional_ownership,\n",
    "    \"earnings_date\": earnings_date\n",
    "}\n",
    "\n",
    "x_stock"
   ]
  },
  {
   "cell_type": "code",
   "execution_count": 74,
   "metadata": {},
   "outputs": [],
   "source": [
    "def parse_stock_data(data):\n",
    "    company_info_parsed = data.split(' $')[0]\n",
    "    market_cap = data.split(' $')[1]\n",
    "    market_info = data.split(' $')[2]\n",
    "    price_info = data.split(' $')[3].split(' ')\n",
    "    price = f'${price_info[0]}'\n",
    "    performance_today = price_info[1]\n",
    "    company_info = company_info_parsed.split(' ')\n",
    "    if 'NASDAQ' in company_info:\n",
    "        idx = company_info.index('NASDAQ')\n",
    "        exchange = company_info[idx]\n",
    "        print('here')\n",
    "        company_info.index('NASDAQ')\n",
    "    elif 'NYSE' in company_info:\n",
    "        idx = company_info.index('NYSE')\n",
    "        exchange = company_info[idx]\n",
    "    elif 'NYSEMKT' in company_info:\n",
    "        idx = company_info.index('NYSEMKT')\n",
    "        exchange = company_info[idx]\n",
    "    industry = \" \".join(company_info[idx + 1:])\n",
    "    symbol = company_info[0]\n",
    "    company_name = \" \".join(company_info[1:idx])\n",
    "    ebitda = market_info.split(' ')[0]\n",
    "    p_e = market_info.split(' ')[1]\n",
    "    ev_ebitda = market_info.split(' ')[2]\n",
    "    debt_equity = market_info.split(' ')[3]\n",
    "    average_volume = market_info.split(' ')[4]\n",
    "    institutional_ownership = market_info.split(' ')[5]\n",
    "    earnings_date = \" \".join(market_info.split(' ')[6:])\n",
    "    result = {\n",
    "        \"symbol\": symbol,\n",
    "        \"company_name\": company_name,\n",
    "        \"exchange\": exchange,\n",
    "        \"industry\": industry,\n",
    "        \"market_cap\": market_cap,\n",
    "        \"price\": price,\n",
    "        \"performance_today\": performance_today,\n",
    "        \"ebitda\": ebitda,\n",
    "        \"p_e\": p_e,\n",
    "        \"ev_ebitda\": ev_ebitda,\n",
    "        \"debt_equity\": debt_equity,\n",
    "        \"average_volume\": average_volume,\n",
    "        \"institutional_ownership\": institutional_ownership,\n",
    "        \"earnings_date\": earnings_date\n",
    "    }\n",
    "    return result"
   ]
  },
  {
   "cell_type": "code",
   "execution_count": 75,
   "metadata": {},
   "outputs": [
    {
     "name": "stdout",
     "output_type": "stream",
     "text": [
      "here\n"
     ]
    },
    {
     "data": {
      "text/plain": [
       "{'symbol': 'AAPL',\n",
       " 'company_name': 'Apple, Inc.',\n",
       " 'exchange': 'NASDAQ',\n",
       " 'industry': 'Consumer Electronics',\n",
       " 'market_cap': '1.91T',\n",
       " 'price': '$109.12',\n",
       " 'performance_today': '-2.41%',\n",
       " 'ebitda': '74.542B',\n",
       " 'p_e': '33.68',\n",
       " 'ev_ebitda': '24.95',\n",
       " 'debt_equity': '2.74',\n",
       " 'average_volume': '52.096M',\n",
       " 'institutional_ownership': '62.12%',\n",
       " 'earnings_date': '29 Oct 2020'}"
      ]
     },
     "execution_count": 75,
     "metadata": {},
     "output_type": "execute_result"
    }
   ],
   "source": [
    "parse_stock_data('AAPL Apple, Inc. NASDAQ Consumer Electronics $1.91T $74.542B 33.68 24.95 2.74 52.096M 62.12% 29 Oct 2020 $109.12 -2.41%')"
   ]
  },
  {
   "cell_type": "code",
   "execution_count": null,
   "metadata": {},
   "outputs": [],
   "source": []
  }
 ],
 "metadata": {
  "kernelspec": {
   "display_name": "Python 3",
   "language": "python",
   "name": "python3"
  },
  "language_info": {
   "codemirror_mode": {
    "name": "ipython",
    "version": 3
   },
   "file_extension": ".py",
   "mimetype": "text/x-python",
   "name": "python",
   "nbconvert_exporter": "python",
   "pygments_lexer": "ipython3",
   "version": "3.8.5"
  }
 },
 "nbformat": 4,
 "nbformat_minor": 4
}
